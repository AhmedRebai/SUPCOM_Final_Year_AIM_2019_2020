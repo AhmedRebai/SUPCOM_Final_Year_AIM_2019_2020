{
 "cells": [
  {
   "cell_type": "markdown",
   "metadata": {},
   "source": [
    "# Machine learning: Apprentissage supervisé: Régression: Projet 1\n",
    "\n",
    "# Auteur: Dr Ahmed Rebai Maitre assistant Esprit School of Engineering\n",
    "# Auteur: Dr Aymen Ben Brik Maitre assistant Esprit School of Business \n",
    "\n"
   ]
  },
  {
   "cell_type": "code",
   "execution_count": null,
   "metadata": {},
   "outputs": [],
   "source": []
  },
  {
   "cell_type": "code",
   "execution_count": null,
   "metadata": {},
   "outputs": [],
   "source": []
  },
  {
   "cell_type": "markdown",
   "metadata": {},
   "source": [
    "## Partie 1\n",
    "L'objectif de cette partie est l'utilisation de la méthode des moindres carrés pour approximer un polynôme à partir d'observations. La spécificité de cette méthode est de minimiser la somme des distances entre un polynôme g approximant et n points expérimentaux.\n",
    "\n",
    "\n",
    "Etant donné une observation de n points distincts $(x_1, y_1)$ $(x_2, y_2)$ $...,(x_n, y_n)$, oncherche à approcher cette observation, au sens des moindres carrés, par un polynôme:\n",
    "$$ g(x) = a_0 + a_1 x + a_2 x^2 + ... + a_m x^m$$\n",
    "de degré m égal à n-1, donnant une meilleure approximation des valeurs $y_i$. Ceci revient à minimiser la distance qui sépare un point expérimental $(x_i,y_i)$ du point approximant $(x_i, g(x_i))$.\n",
    "\n",
    "Le polynôme donnant la meilleure approximation est celui qui minimise la somme S, des écarts entre les $y_i$ et les $g(x_i)$, donnée par la formule suivante:\n",
    "\n",
    "$$ S(a_0,a_1,a_2,...,a_m) = \\sum_{i=1}^n |y_i - (a_0 + a_1 x_i + a_2 x_i^2 + ... + a_m x_i^m)| $$"
   ]
  },
  {
   "cell_type": "markdown",
   "metadata": {},
   "source": [
    "Afin d'identifier la distance moyenne minimale, on cherche l'ensemble des valeurs des paramètres $a_i$ minimisant cette somme.\n",
    "\n",
    "Ce qui conduit à résoudre le système linéaire suivant:\n",
    "\n",
    "\n",
    "\n",
    "$$\n",
    "  \\begin{bmatrix}\n",
    "    \\sum_{i=1}^n x_i^0 & \\sum_{i=1}^n x_i^1 & ... & \\sum_{i=1}^n x_i^m \\\\\n",
    "    \\sum_{i=1}^n x_i^1 & \\sum_{i=1}^n x_i^2 & ... & \\sum_{i=1}^n x_i^{m+1} \\\\\n",
    "    \\vdots             & \\vdots             & ... & \\vdots                  \\\\\n",
    "    \\sum_{i=1}^n x_i^{m-1} & \\sum_{i=1}^n x_i^{m} & ... & \\sum_{i=1}^n x_i^{2*m-1} \\\\\n",
    "    \\sum_{i=1}^n x_i^m & \\sum_{i=1}^n x_i^{m+1} & ... & \\sum_{i=1}^n x_i^{2*m} \n",
    "  \\end{bmatrix}\n",
    "*\n",
    "  \\begin{bmatrix}\n",
    "   a_0\\\\\n",
    "   a_1\\\\\n",
    "   \\vdots \\\\\n",
    "   a_{m-1} \\\\\n",
    "   a_{m}\n",
    "  \\end{bmatrix}\n",
    "=\n",
    "  \\begin{bmatrix}\n",
    "   \\sum_{i=1}^n x_i^0 * y_i\\\\\n",
    "   \\sum_{i=1}^n x_i^1 * y_i \\\\\n",
    "   \\vdots \\\\\n",
    "   \\sum_{i=1}^n x_i^{m-1} * y_i \\\\\n",
    "   \\sum_{i=1}^n x_i^m * y_i\n",
    "  \\end{bmatrix}\n",
    "$$\n",
    "\n",
    "En posant $U_k = \\sum_{i=1}^n x_i^k$ et $\\nu_k = \\sum_{i=1}^n x_i^k y_i$, le système s'écrit alors:\n",
    "\n",
    "$$\n",
    "  \\begin{bmatrix}\n",
    "     U_0 &  U_1 & ... & U_m \\\\\n",
    "     U_1 & U_2  & ... & U_{m+1}\\\\\n",
    "    \\vdots             & \\vdots             & ... & \\vdots \\\\\n",
    "     U_{m-1} & U_m & ... & U_{2m-1} \\\\\n",
    "     U_m & U_{m+1} & ... & U_{2*m} \n",
    "  \\end{bmatrix}\n",
    "*\n",
    "  \\begin{bmatrix}\n",
    "   a_0\\\\\n",
    "   a_1\\\\\n",
    "   \\vdots \\\\\n",
    "   a_{m-1} \\\\\n",
    "   a_{m}\n",
    "  \\end{bmatrix}\n",
    "=\n",
    "  \\begin{bmatrix}\n",
    "   \\nu_0\\\\\n",
    "    \\nu_1\\\\\n",
    "   \\vdots \\\\\n",
    "    \\nu_{m-1}\\\\\n",
    "   \\nu_{m}\n",
    "  \\end{bmatrix}\n",
    "$$\n",
    "\n",
    "\n",
    "$$ \\Rightarrow U.a = \\nu $$"
   ]
  },
  {
   "cell_type": "markdown",
   "metadata": {},
   "source": [
    "*** Travail demandé: ***\n",
    "\n",
    "- Dans la suite, on suppose que les n points représentent une observation, sont stockés dans une liste de tuples $L_p$ représente les coordonnées d'un point.\n",
    "\n",
    "- Le travail demandé consiste à déterminer les coefficients $a_i$ du polynôme d'interpolation $g(x)$.\n"
   ]
  },
  {
   "cell_type": "markdown",
   "metadata": {},
   "source": [
    "### Question 1:\n",
    "Ecrire une fonction python, nommée puissance, qui, pour un réel x et un entier p, crée et retourne la liste $[x^0, x^1, ..., x^{2p}]$"
   ]
  },
  {
   "cell_type": "code",
   "execution_count": 3,
   "metadata": {},
   "outputs": [],
   "source": [
    "def puissance():\n",
    "    pass\n",
    "    #ICI METTRE \n",
    "    #LE CODE DE LA FONCTION"
   ]
  },
  {
   "cell_type": "code",
   "execution_count": null,
   "metadata": {},
   "outputs": [],
   "source": []
  },
  {
   "cell_type": "markdown",
   "metadata": {},
   "source": [
    "### Question 2:\n",
    "Ecrire une fonction python, nommée liste_puissance, qui, à partir d'une liste de réels L et d'un entier p, crée et retourne une liste de listes contenant, pour chaque réel r de L, une liste $[r^0, r^1, ..., r^{2p}]$"
   ]
  },
  {
   "cell_type": "code",
   "execution_count": null,
   "metadata": {},
   "outputs": [],
   "source": [
    "def liste_puissance():\n",
    "    pass\n",
    "    #ICI METTRE \n",
    "    #LE CODE DE LA FONCTION"
   ]
  },
  {
   "cell_type": "code",
   "execution_count": null,
   "metadata": {},
   "outputs": [],
   "source": []
  },
  {
   "cell_type": "markdown",
   "metadata": {},
   "source": [
    "### Question 3:\n",
    "Ecrire une fonction python, nommée calcul_matrice, qui à partir de la liste de points $L_p$, crée et retourne la matrice U."
   ]
  },
  {
   "cell_type": "code",
   "execution_count": null,
   "metadata": {},
   "outputs": [],
   "source": [
    "def calcul_matrice():\n",
    "    pass\n",
    "    #ICI METTRE \n",
    "    #LE CODE DE LA FONCTION"
   ]
  },
  {
   "cell_type": "code",
   "execution_count": null,
   "metadata": {},
   "outputs": [],
   "source": []
  },
  {
   "cell_type": "markdown",
   "metadata": {},
   "source": [
    "### Question 4:\n",
    "Ecrire une fonction python, nommée calcul_vecteur, qui à partir de la liste de points $L_p$, crée et retourne le vecteur $\\nu$."
   ]
  },
  {
   "cell_type": "code",
   "execution_count": null,
   "metadata": {},
   "outputs": [],
   "source": [
    "def calcul_vecteur():\n",
    "    pass\n",
    "    #ICI METTRE \n",
    "    #LE CODE DE LA FONCTION"
   ]
  },
  {
   "cell_type": "code",
   "execution_count": null,
   "metadata": {},
   "outputs": [],
   "source": []
  },
  {
   "cell_type": "markdown",
   "metadata": {},
   "source": [
    "### Question 5:\n",
    "Ecrire un programme en python qui détermine les coefficients du pôlynome d'interpolation en faisant les importations adéquates."
   ]
  },
  {
   "cell_type": "code",
   "execution_count": 5,
   "metadata": {},
   "outputs": [],
   "source": [
    "# ICI ECRIRE LE CODE\n",
    "# XXXXXXXXXXXXXXXXXX"
   ]
  },
  {
   "cell_type": "code",
   "execution_count": null,
   "metadata": {},
   "outputs": [],
   "source": []
  },
  {
   "cell_type": "code",
   "execution_count": null,
   "metadata": {},
   "outputs": [],
   "source": []
  },
  {
   "cell_type": "markdown",
   "metadata": {},
   "source": [
    "### Partie 2 (Estimation des paramètres d'une fonction de production de Cobb-Douglas)\n",
    "\n",
    "On s'intéresse dans cette partie à quelques aspects mathématiques de la fonction de production d'une entreprise qui produit un certain bien à une époque donnée, à partir des deux facteurs de production travail et capital.\n",
    "\n",
    "Soit a un réel vérifiant $0<a<1$ et B un réel strictement positif.\n",
    "\n",
    "On suppose que la production totale Q présente une composante déterministe et une composante aléatoire.\n",
    "\n",
    "- La composante déterministe est une fonction de production f de type Cobb-Douglas, c'est-à-dire telle que: \n",
    "\n",
    "$$ \\forall (x,y) \\in D, f(x,y) = B * x^a * y^{1-a}$$\n",
    "\n",
    "- La composante aléatoire est une variable aléatoire de la forme exp(R) où R est une variable aléatoire suivant la loi normale centrée, de variance $\\sigma^2 > 0$.\n",
    "\n",
    "- La production totale Q, est une variable aléatoire à valeurs strictement positives telle que:\n",
    "$$ Q = B * x^a * y^{1-a} * e^R$$.\n",
    "\n",
    "On suppose que les variables aléatoires Q et R sont définies sur un même espace probabilisé $(\\Omega, A, P)$\n",
    "\n",
    "On pose : $b=ln(B)$, $u=ln(x)-ln(y)$ et $T=ln(Q)-ln(y)$. On a donc : $T = a u + b + R$.\n",
    "\n",
    "On sélectionne n entreprises $(n \\geq 1)$ qui produisent le bien considéré à l'époque donnée. \n",
    "\n",
    "On mesure pour chaque entreprise $i (i \\in [|1,n|])$ la quantité de travail $x_i$ et la quantité de capital $y_i$ utilisées ainsi que la quantité produite $Q_i^*$. On suppose que pour tout i appartenant à l'intervalle $[|1,n|]$, on a $x_i>0$, $y_i>0$ et $Q_i^*>0$.\n",
    "\n",
    "La production totale de l'entreprise i est alors une variable aléatoire $Q_i$ telle que \n",
    "$$ Q_i = B x_i^a y_i^{1-a} e^{R_i}$$, où $R_1, R_2, ..., R_n$ sont des variables aléatoires supposées indépendantes et de même loi que R et le réel strictement positif $Q_i^*$ est une réalisation de la variable aléatoire $Q_i$.\n",
    "\n",
    "On pose pour tout $i \\in [|1;n|]$: $u_i = ln x_i - ln y_i$, $T_i = ln Q_i - ln y_i$ et  $ t_i = ln Q_i^* - ln y_i$\n",
    "\n",
    "Ainsi, pour chaque entreprise i, on a \n",
    "$$ T_i = a*u_i + b + R_i$$ et le réel $t_i$ est une réalisation de la variable aléatoire $T_i$.\n",
    "\n",
    "\n",
    "\n",
    "\n",
    "*** Travail à faire : lisez le document numéro 2 et répondre aux questions ici avec Python***"
   ]
  },
  {
   "cell_type": "code",
   "execution_count": null,
   "metadata": {},
   "outputs": [],
   "source": []
  },
  {
   "cell_type": "code",
   "execution_count": null,
   "metadata": {},
   "outputs": [],
   "source": []
  },
  {
   "cell_type": "code",
   "execution_count": null,
   "metadata": {},
   "outputs": [],
   "source": []
  },
  {
   "cell_type": "markdown",
   "metadata": {},
   "source": [
    "## Partie 3 : Régression multilinéaire\n",
    "\n",
    "### Principe:\n",
    "\n",
    "En régression multilinéaire, au lieu d'ajuster une variable cible y en fonction d'une variable x, on ajuste cette variable cible y en fonction de plusieurs variables $x_1, x_2, x_3, ..., x_n$.\n",
    "\n",
    "\n",
    "Ce qui donne le modèle complet:\n",
    "\n",
    "$y = a_0 + a_1*x_1 + a_2*x_2 + a_3*x_3 + ... + a_n * x_n$\n",
    "\n",
    "\n",
    "### Tâches à faire:\n",
    "\n",
    "- Objectif métier: On se propose d'analyer le fichier contenant les données de 50 entreprises (startup) afin de prédire le profit en fonction de plusieurs paramètres \n",
    "\n",
    "Pendant la séance de régression linéaire dans la classe, nous avons analysé la dépendance entre le profit et les dépense R&D. Dans ce qui suit, on fera l'analyse complète.\n",
    "\n",
    "Vous êtes Business-analyst:"
   ]
  },
  {
   "cell_type": "code",
   "execution_count": null,
   "metadata": {},
   "outputs": [],
   "source": [
    "# ICI Charger les modules \n",
    "# utiles à l'analyse des données\n",
    "# Importing libraries\n",
    "\n"
   ]
  },
  {
   "cell_type": "code",
   "execution_count": null,
   "metadata": {},
   "outputs": [],
   "source": []
  },
  {
   "cell_type": "code",
   "execution_count": null,
   "metadata": {},
   "outputs": [],
   "source": [
    "# ICI charger les données \n",
    "# à partir du  fichier \n",
    "# .csv \"entreprises\"\n",
    "# Importing the dataset\n",
    "\n",
    "\n",
    "# ICI METTRE LE CODE\n",
    "data = XXXXXXXXXXXXX"
   ]
  },
  {
   "cell_type": "code",
   "execution_count": null,
   "metadata": {},
   "outputs": [],
   "source": []
  },
  {
   "cell_type": "code",
   "execution_count": null,
   "metadata": {},
   "outputs": [],
   "source": [
    "# ICI On passe de pandas à numpy\n",
    "\n",
    "# Charger dans la varible X toutes\n",
    "# les lignes et toutes les colonnes\n",
    "# sauf la dernière colonne\n",
    "\n",
    "X = data.XXXXXXXXXXXXX"
   ]
  },
  {
   "cell_type": "code",
   "execution_count": null,
   "metadata": {},
   "outputs": [],
   "source": [
    "# Charger dans la variable y \n",
    "# la dernière colonne\n",
    "\n",
    "y = data.XXXXXXXXXXXXX"
   ]
  },
  {
   "cell_type": "code",
   "execution_count": null,
   "metadata": {},
   "outputs": [],
   "source": []
  },
  {
   "cell_type": "markdown",
   "metadata": {},
   "source": [
    "- On remarque que le fichier contient des variables qualitatives\n",
    "- Le code suivant permet d'encoder ces variables qualitatives en minimisant le biais introduit dans l'analyse.\n",
    "- La solution est donnée par le module sklearn spécialement le sous module  preprocessing\n"
   ]
  },
  {
   "cell_type": "code",
   "execution_count": null,
   "metadata": {},
   "outputs": [],
   "source": [
    "# Question : Comment encoder des variables\n",
    "# qualitatives ?\n",
    "# Encoding categorical data\n",
    "\n",
    "# chargement des classes \n",
    "# LabelEncoder et OneHotEncoder\n",
    "from sklearn.preprocessing import LabelEncoder, OneHotEncoder\n",
    "\n",
    "# Instanciation de la classe Labelencoder()\n",
    "encodage_label = Labelencoder()\n"
   ]
  },
  {
   "cell_type": "code",
   "execution_count": null,
   "metadata": {},
   "outputs": [],
   "source": [
    "# On applique sur la 4 colonne dans le dataset\n",
    "X[:, 3] = encodage_label.fit_transform(X[:, 3])"
   ]
  },
  {
   "cell_type": "code",
   "execution_count": null,
   "metadata": {},
   "outputs": [],
   "source": [
    "# Il existe 3 classes dans cette variable, on met donc 3\n",
    "onehotencoder = OneHotEncoder(categorical_features = [3])"
   ]
  },
  {
   "cell_type": "code",
   "execution_count": null,
   "metadata": {},
   "outputs": [],
   "source": [
    "# On effectue quelques transformations sur X\n",
    "X = onehotencoder.fit_transform(X).toarray()"
   ]
  },
  {
   "cell_type": "code",
   "execution_count": null,
   "metadata": {},
   "outputs": [],
   "source": []
  },
  {
   "cell_type": "code",
   "execution_count": null,
   "metadata": {},
   "outputs": [],
   "source": [
    "# Ici on évite le piège de la première colonne\n",
    "X = X[:,1:]"
   ]
  },
  {
   "cell_type": "code",
   "execution_count": null,
   "metadata": {},
   "outputs": [],
   "source": [
    "# Maintenant, on revient au travail"
   ]
  },
  {
   "cell_type": "code",
   "execution_count": null,
   "metadata": {},
   "outputs": [],
   "source": [
    "# Splitting the dataset into the Training set and Test set\n",
    "\n",
    "# ICI divise tes données en deux lots\n",
    "# un lot pour l'entraînement du modèle\n",
    "# et l'autre pour le test\n",
    "\n",
    "# avec un ratio de 80% et 20%\n",
    "# fixer le random_state à 0\n",
    "\n",
    "# ICI METTRE LE CODE\n"
   ]
  },
  {
   "cell_type": "code",
   "execution_count": null,
   "metadata": {},
   "outputs": [],
   "source": []
  },
  {
   "cell_type": "code",
   "execution_count": null,
   "metadata": {},
   "outputs": [],
   "source": [
    "# Feature Scaling\n",
    "\n",
    "# ICI réaliser quelques transformations sur les données\n",
    "# StanderScaler\n",
    "# RobustScaler\n",
    "# MinMaxScaler\n",
    "\n",
    "# CREER des nouvelles variables\n",
    "# pour chaque transformation\n",
    "\n",
    "\n",
    "# ICI METTRE LE CODE\n",
    "\n",
    "from XXXXXXXXXXXXX\n",
    "\n",
    "X_train_sc = \n",
    "X_test_sc = \n",
    "\n",
    "y_train_sc = \n",
    "y_test_sc = \n",
    "\n"
   ]
  },
  {
   "cell_type": "code",
   "execution_count": null,
   "metadata": {},
   "outputs": [],
   "source": []
  },
  {
   "cell_type": "code",
   "execution_count": null,
   "metadata": {},
   "outputs": [],
   "source": [
    "# ICI appeler le modèle de la régression multilinéaire\n",
    "# ne vous inquiétez pas sklearn gère les maths\n",
    "# il suffit d'appeler correctement le modèle correct\n",
    "\n",
    "# Fitting Multiple Linear Regression to the Training set\n",
    "from sklearn.linear_model import LinearRegression\n",
    "modele_lineaire = LinearRegression()\n",
    "modele_lineaire.fit(X_train_sc, y_train_sc)"
   ]
  },
  {
   "cell_type": "code",
   "execution_count": null,
   "metadata": {},
   "outputs": [],
   "source": []
  },
  {
   "cell_type": "code",
   "execution_count": null,
   "metadata": {},
   "outputs": [],
   "source": [
    "# Predicting the Test set results\n",
    "# ICI réaliser une  prédiction sur les données tests\n",
    "\n",
    "\n",
    "y_pred = regressor.predict(X_test)"
   ]
  },
  {
   "cell_type": "code",
   "execution_count": null,
   "metadata": {},
   "outputs": [],
   "source": []
  },
  {
   "cell_type": "markdown",
   "metadata": {},
   "source": [
    "*** Attention: on ne peut pas représenter graphiquement***"
   ]
  },
  {
   "cell_type": "code",
   "execution_count": null,
   "metadata": {},
   "outputs": [],
   "source": [
    "# Model evaluation or scoring\n",
    "# évaluation du modèle\n",
    "\n",
    "# ICI  METTRE LE CODE \n",
    "# permettant d'évaluer \n",
    "# la regréssion"
   ]
  },
  {
   "cell_type": "code",
   "execution_count": null,
   "metadata": {},
   "outputs": [],
   "source": []
  },
  {
   "cell_type": "markdown",
   "metadata": {},
   "source": [
    "# Reporting\n",
    "\n",
    "Maintenant, on arrive à la dernière étape dans le processus d'analyse des données en machine learning. \n",
    "\n",
    "*** Ecrire un rapport décrivant les différentes étapes de l'analyse statistique et en misant sur des arguments business ***"
   ]
  },
  {
   "cell_type": "code",
   "execution_count": null,
   "metadata": {},
   "outputs": [],
   "source": []
  }
 ],
 "metadata": {
  "kernelspec": {
   "display_name": "Python 3",
   "language": "python",
   "name": "python3"
  },
  "language_info": {
   "codemirror_mode": {
    "name": "ipython",
    "version": 3
   },
   "file_extension": ".py",
   "mimetype": "text/x-python",
   "name": "python",
   "nbconvert_exporter": "python",
   "pygments_lexer": "ipython3",
   "version": "3.6.8"
  }
 },
 "nbformat": 4,
 "nbformat_minor": 4
}
